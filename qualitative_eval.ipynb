{
 "cells": [
  {
   "cell_type": "code",
   "execution_count": 2,
   "id": "3c3b8586",
   "metadata": {},
   "outputs": [],
   "source": [
    "import pandas as pd\n",
    "\n",
    "# Load original and fixes CSV files\n",
    "original_file_path = '/data/users2/nblair7/analysis_results/eval_results.csv'\n",
    "fixes_file_path = '/data/users2/nblair7/analysis_results/eval_results_split.csv'\n",
    "df_original = pd.read_csv(original_file_path)\n",
    "df_fixes = pd.read_csv(fixes_file_path)\n",
    "\n",
    "# Use participant_id as index to align rows\n",
    "df_original.set_index('participant_id', inplace=True)\n",
    "df_fixes.set_index('participant_id', inplace=True)\n",
    "\n",
    "# Update original rows with fixed rows\n",
    "df_original.update(df_fixes)\n",
    "\n",
    "# Save the merged & fixed data into a NEW CSV file\n",
    "df_original.reset_index().to_csv('merged_fixed.csv', index=False)\n"
   ]
  }
 ],
 "metadata": {
  "kernelspec": {
   "display_name": "base",
   "language": "python",
   "name": "python3"
  },
  "language_info": {
   "codemirror_mode": {
    "name": "ipython",
    "version": 3
   },
   "file_extension": ".py",
   "mimetype": "text/x-python",
   "name": "python",
   "nbconvert_exporter": "python",
   "pygments_lexer": "ipython3",
   "version": "3.13.5"
  }
 },
 "nbformat": 4,
 "nbformat_minor": 5
}
