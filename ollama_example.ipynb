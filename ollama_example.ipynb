{
 "cells": [
  {
   "cell_type": "markdown",
   "id": "b812173d",
   "metadata": {},
   "source": [
    "# Imports + Config"
   ]
  },
  {
   "cell_type": "code",
   "execution_count": 1,
   "id": "e3cd2fef",
   "metadata": {},
   "outputs": [
    {
     "name": "stdout",
     "output_type": "stream",
     "text": [
      "Requirement already satisfied: typing_extensions in /data/users2/agreene46/envs/pt2/lib/python3.10/site-packages (4.14.1)\n",
      "Requirement already satisfied: pydantic in /data/users2/agreene46/envs/pt2/lib/python3.10/site-packages (2.11.7)\n",
      "Requirement already satisfied: typing-inspection>=0.4.0 in /data/users2/agreene46/envs/pt2/lib/python3.10/site-packages (from pydantic) (0.4.1)\n",
      "Requirement already satisfied: typing-extensions>=4.12.2 in /data/users2/agreene46/envs/pt2/lib/python3.10/site-packages (from pydantic) (4.14.1)\n",
      "Requirement already satisfied: annotated-types>=0.6.0 in /data/users2/agreene46/envs/pt2/lib/python3.10/site-packages (from pydantic) (0.7.0)\n",
      "Requirement already satisfied: pydantic-core==2.33.2 in /data/users2/agreene46/envs/pt2/lib/python3.10/site-packages (from pydantic) (2.33.2)\n"
     ]
    }
   ],
   "source": [
    "import json\n",
    "import requests\n",
    "import pandas as pd\n",
    "!pip install --upgrade typing_extensions\n",
    "!pip install pydantic\n",
    "from pydantic import BaseModel\n",
    "\n",
    "# Ollama Config\n",
    "OLLAMA_NODE = \"arctrdgn001\"\n",
    "BASE_URL = f\"http://{OLLAMA_NODE}:11434/api/chat\"\n",
    "\n",
    "model = \"gemma3-optimized:27b\""
   ]
  },
  {
   "cell_type": "markdown",
   "id": "758f1de4",
   "metadata": {},
   "source": [
    "#  Grabbing DAIC-WOZ data (Data Loader)"
   ]
  },
  {
   "cell_type": "code",
   "execution_count": 2,
   "id": "39766ce3",
   "metadata": {},
   "outputs": [
    {
     "name": "stdout",
     "output_type": "stream",
     "text": [
      "Ellie: hi i'm ellie thanks for coming in today i was created to talk to people in a safe and secure environment think of me as a friend i don't judge i can't i'm a computer  \n",
      "Ellie: i'm here to learn about people and would love to learn about you i'll ask a few questions to get us started and please feel free to tell me anything your answers are totally confidential \n",
      "Ellie: how are you doing today\n",
      "Participant: i'm doing alright\n",
      "Ellie: that's good\n",
      "Ellie: where are you from originally\n",
      "Participant: uh originally i'm from california\n",
      "Participant: uh born in glendale\n",
      "Ellie: really\n",
      "Ellie: nice\n",
      "Ellie: how do you like your living situation\n",
      "Participant: i'm not too happy with it\n",
      "\n",
      "Participant_ID        305.0\n",
      "PHQ8_Binary             0.0\n",
      "PHQ8_Score              7.0\n",
      "Gender                  1.0\n",
      "PHQ8_NoInterest         0.0\n",
      "PHQ8_Depressed          1.0\n",
      "PHQ8_Sleep              1.0\n",
      "PHQ8_Tired              2.0\n",
      "PHQ8_Appetite           2.0\n",
      "PHQ8_Failure            1.0\n",
      "PHQ8_Concentrating      0.0\n",
      "PHQ8_Moving             0.0\n",
      "Name: 2, dtype: float64\n"
     ]
    }
   ],
   "source": [
    "test_transcript = pd.read_csv(r\"/data/users4/xli/ai-psychiatrist/datasets/daic_woz_dataset/305_P/305_TRANSCRIPT.csv\", sep=\"\\t\")\n",
    "train_phq8_dataset = pd.read_csv(r\"/data/users4/xli/ai-psychiatrist/datasets/daic_woz_dataset/train_split_Depression_AVEC2017.csv\")\n",
    "\n",
    "# Reformatting transcript data to be a string with speaker name + text\n",
    "patient_transcript = '\\n'.join(test_transcript['speaker'] + ': ' + test_transcript['value'])\n",
    "\n",
    "print(patient_transcript[:677] + \"\\n\")\n",
    "print(train_phq8_dataset.iloc[2])"
   ]
  },
  {
   "cell_type": "markdown",
   "id": "bfe1c069",
   "metadata": {},
   "source": [
    "## Qualitative Assessment"
   ]
  },
  {
   "cell_type": "code",
   "execution_count": 4,
   "id": "bffa68db",
   "metadata": {},
   "outputs": [
    {
     "name": "stdout",
     "output_type": "stream",
     "text": [
      "{\n",
      "  \"model\": \"gemma3-optimized:27b\",\n",
      "  \"created_at\": \"2025-07-08T19:16:00.939015947Z\",\n",
      "  \"message\": {\n",
      "    \"role\": \"assistant\",\n",
      "    \"content\": \"Here's an analysis of the patient's mental health status, based on the provided interview transcript, structured as requested:\\n\\n**<overall>**\\n\\nThe patient presents with indicators of both current and past mental health challenges, specifically a diagnosed bipolar disorder. While currently not in therapy due to financial constraints, they acknowledge the benefit of past therapeutic interventions. They exhibit a complex emotional landscape, marked by periods of irritability, anxiety, and a tendency towards social withdrawal. Despite these challenges, they demonstrate resilience, a desire for self-improvement, and a capacity for positive relationships (particularly with their girlfriend). The patient appears to be functioning, but is clearly carrying a significant emotional burden.\\n\\n**<social>**\\n\\n*   **Relationships:** The patient has a close relationship with their girlfriend, who is also their roommate. They describe a history of navigating difficult times together, suggesting a supportive bond. However, honesty within the relationship is a current source of conflict.\\n*   **Family:** The patient reports limited close relationships with their siblings and a stronger connection with their mother and niece. This suggests a potentially strained family dynamic.\\n*   **Social Isolation:** The patient expresses a preference for solitude and dislikes crowds, indicating a tendency towards social withdrawal. They state they \\\"don't reveal a lot\\\" to others, suggesting difficulty with vulnerability and trust.\\n*   **Support System:** While not currently in therapy, the patient acknowledges its past benefits. They also mention a positive influence from a former boss, highlighting the importance of mentorship and positive role models.\\n*   **Social Functioning:** The patient utilizes public transportation, indicating some level of engagement with the community, but also potential exposure to stressors (as they describe near-accidents and obnoxious behavior).\\n\\n**<biological>**\\n\\n*   **Sleep Disturbances:** The patient reports recent changes in sleep patterns, experiencing both increased sleep duration and persistent fatigue. This could be indicative of depression, anxiety, or an underlying mood disorder.\\n*   **Appetite:** Not explicitly mentioned, but sleep and energy levels often correlate with appetite.\\n*   **Physical Activity:** The patient enjoys activities like fishing and driving, suggesting a desire for physical engagement, but it's unclear how frequently they engage in these activities.\\n*   **Stress Levels:** The patient describes experiencing irritability and anxiety, particularly in social situations. They also mention past trauma (DUI, job loss) and current financial stressors (lack of health insurance, job search).\\n*   **Medical History:** Diagnosed with bipolar disorder, with a history of medication trials that were ultimately discontinued. This suggests a complex treatment history and potential challenges with medication adherence or finding an effective regimen.\\n*   **Energy Levels:** Reports fatigue and needing more sleep, which could be a symptom of depression or a mood disorder.\\n\\n**<notes>**\\n\\n*   **Resilience:** Despite facing numerous challenges (DUI, job loss, financial difficulties, mental health diagnosis), the patient demonstrates a degree of resilience and a desire for self-improvement.\\n*   **Self-Awareness:** The patient exhibits a level of self-awareness, acknowledging their strengths and weaknesses, and identifying triggers for their emotional distress.\\n*   **Coping Mechanisms:** The patient's coping mechanisms appear to be somewhat passive (avoiding stressful situations, withdrawing from social interactions). While these strategies may provide temporary relief, they could also contribute to social isolation and exacerbate underlying mental health issues.\\n*   **Past Trauma:** The DUI and subsequent job loss likely contributed to significant stress and emotional distress.\\n*   **Honesty as a Value:** The patient places a high value on honesty, and is deeply affected when it is violated.\\n*   **Positive Experiences:** The patient recalls positive experiences with exotic animals and a supportive boss, suggesting a capacity for joy and fulfillment.\\n\\n**<risks>**\\n\\n*   **Recurrence of Mood Episodes:** Given the diagnosis of bipolar disorder, the patient is at risk for future mood episodes (mania or depression).\\n*   **Social Isolation:** The patient's preference for solitude and tendency to withdraw from social interactions could lead to social isolation and exacerbate mental health issues.\\n*   **Financial Instability:** The patient's financial difficulties could contribute to stress and anxiety, and limit access to essential resources (healthcare, therapy).\\n*   **Substance Use:** While not explicitly mentioned, individuals with bipolar disorder are at increased risk for substance use as a form of self-medication.\\n*   **Non-Adherence to Treatment:** The patient's history of discontinuing medication suggests a potential challenge with treatment adherence.\\n*   **Relationship Strain:** The conflict with their girlfriend regarding honesty could strain the relationship and contribute to emotional distress.\\n*   **Unhealthy Coping Mechanisms:** Reliance on avoidance and withdrawal as coping mechanisms could be detrimental to long-term mental health.\\n\\n\\n\\n**Disclaimer:** This analysis is based solely on the provided interview transcript and should not be considered a definitive diagnosis or treatment plan. A comprehensive mental health assessment by a qualified professional is necessary to accurately diagnose and address the patient's needs.\"\n",
      "  },\n",
      "  \"done_reason\": \"stop\",\n",
      "  \"done\": true,\n",
      "  \"total_duration\": 108396055989,\n",
      "  \"load_duration\": 30141153558,\n",
      "  \"prompt_eval_count\": 5916,\n",
      "  \"prompt_eval_duration\": 8075285087,\n",
      "  \"eval_count\": 1039,\n",
      "  \"eval_duration\": 70178569905\n",
      "}\n"
     ]
    }
   ],
   "source": [
    "qualitative_prompt = f\"\"\"Please analyze the following interview transcript and assess the patient's mental health status, focusing on signs of depression, from social and biological aspects. \n",
    "\n",
    "Please provide your assessment in a structured format, including the following sections:\n",
    "1. Overall Impression in <overall> tags: A brief summary of the patient's mental health status.\n",
    "2. Social Aspects in <social> tags: Observations related to the patient's interpersonal relationships, family situation, and any relevant social interactions that may influence their mental health.\n",
    "3. Biological Aspects in <biological> tags: Observations related to the patient's physical health, including sleep quality, appetite, physical activity, stress level, and any other biological factors that may influence their mental health.\n",
    "4. Additional Notes in <notes> tags: Any other relevant observations or comments that do not fit into the above categories.\n",
    "5. Potential Risk Factors in <risks> tags: Any identified risk factors for depression or other mental health issues.\n",
    "\n",
    "Here is the interview transcript:\n",
    "{patient_transcript}\n",
    "\"\"\"\n",
    "# Temp, top_k, and top_p set to more deterministic values\n",
    "response = requests.post(\n",
    "  BASE_URL,\n",
    "  json = {\n",
    "    \"model\": model,\n",
    "    \"messages\": [{\"role\": \"user\", \"content\": qualitative_prompt}],\n",
    "    \"stream\": False,\n",
    "    \"options\": {\n",
    "      \"temperature\": 0,\n",
    "      \"top_k\": 20,\n",
    "      \"top_p\": 0.9\n",
    "    }\n",
    "  }\n",
    ")\n",
    "\n",
    "print(json.dumps(response.json(), indent=2))\n",
    "\n"
   ]
  },
  {
   "cell_type": "markdown",
   "id": "8ee33cfb",
   "metadata": {},
   "source": [
    "## Quantitative Assesment"
   ]
  },
  {
   "cell_type": "code",
   "execution_count": 13,
   "id": "df5711a7",
   "metadata": {},
   "outputs": [
    {
     "name": "stdout",
     "output_type": "stream",
     "text": [
      "Comparison of Predicted vs Ground Truth:\n",
      "Metric\t\t\tPredicted\tGround Truth\tDifference\n",
      "-----------------------------------------------------------------\n",
      "PHQ8_NoInterest         2            0               2\n",
      "PHQ8_Depressed          2            1               1\n",
      "PHQ8_Sleep              1            1               0\n",
      "PHQ8_Tired              2            2               0\n",
      "PHQ8_Appetite           0            2               2\n",
      "PHQ8_Failure            1            1               0\n",
      "PHQ8_Concentrating      1            0               1\n",
      "PHQ8_Moving             0            0               0\n",
      "-----------------------------------------------------------------\n",
      "Average Absolute Difference: 0.75\n"
     ]
    }
   ],
   "source": [
    "class PHQ8Scores(BaseModel):\n",
    "    nointerest: int  # 0-3: Little interest or pleasure in doing things\n",
    "    depressed: int   # 0-3: Feeling down, depressed, or hopeless\n",
    "    sleep: int       # 0-3: Trouble falling/staying asleep, or sleeping too much\n",
    "    tired: int       # 0-3: Feeling tired or having little energy\n",
    "    appetite: int    # 0-3: Poor appetite or overeating\n",
    "    failure: int     # 0-3: Feeling bad about self or like a failure\n",
    "    concentrating: int # 0-3: Trouble concentrating\n",
    "    moving: int      # 0-3: Moving/speaking slowly or being fidgety/restless\n",
    "\n",
    "quantitative_prompt = f\"\"\"Analyze the following interview transcript and predict PHQ-8 scores. The PHQ-8 measures depression symptoms over the past 2 weeks with scores: 0 = not at all (0-1 days), 1 = several days (2-6 days), 2 = more than half the days (7-11 days), 3 = nearly every day (12-14 days).\n",
    "\n",
    "Return ONLY a JSON object with these exact keys and integer values 0-3:\n",
    "- \"nointerest\": score for little interest or pleasure in activities\n",
    "- \"depressed\": score for feeling down, depressed, or hopeless  \n",
    "- \"sleep\": score for sleep problems (trouble falling/staying asleep or sleeping too much)\n",
    "- \"tired\": score for feeling tired or having little energy\n",
    "- \"appetite\": score for appetite changes (poor appetite or overeating)\n",
    "- \"failure\": score for negative self-perception or feeling like a failure\n",
    "- \"concentrating\": score for trouble concentrating on tasks\n",
    "- \"moving\": score for psychomotor changes (moving/speaking slowly or restlessness)\n",
    "\n",
    "Interview transcript:\n",
    "{patient_transcript}\n",
    "\n",
    "Respond with valid JSON only.\"\"\"\n",
    "\n",
    "# Most deterministic temp, top_k, and top_p\n",
    "response = requests.post(\n",
    "    BASE_URL,\n",
    "    json={\n",
    "        \"model\": model,\n",
    "        \"messages\": [{\"role\": \"user\", \"content\": quantitative_prompt}],\n",
    "        \"stream\": False,\n",
    "        \"options\": {\n",
    "            \"temperature\": 0,\n",
    "            \"top_k\": 1,\n",
    "            \"top_p\": 1.0\n",
    "        }\n",
    "    }\n",
    ")\n",
    "\n",
    "# Parse and validate the response\n",
    "try:\n",
    "    response_data = response.json()\n",
    "    content = response_data['message']['content']\n",
    "    \n",
    "    # Remove markdown code blocks if present\n",
    "    if content.startswith('```json'):\n",
    "        content = content.split('```json')[1].split('```')[0].strip()\n",
    "    elif content.startswith('```'):\n",
    "        content = content.split('```')[1].split('```')[0].strip()\n",
    "    \n",
    "    # Parse the JSON response and validate with Pydantic\n",
    "    scores_dict = json.loads(content)\n",
    "    phq8_scores = PHQ8Scores(**scores_dict)\n",
    "    \n",
    "    # Extract the 8 PHQ-8 values\n",
    "    scores_list = [\n",
    "        phq8_scores.nointerest,\n",
    "        phq8_scores.depressed,\n",
    "        phq8_scores.sleep,\n",
    "        phq8_scores.tired,\n",
    "        phq8_scores.appetite,\n",
    "        phq8_scores.failure,\n",
    "        phq8_scores.concentrating,\n",
    "        phq8_scores.moving\n",
    "    ]\n",
    "    \n",
    "    # Get ground truth values\n",
    "    ground_truth = train_phq8_dataset.iloc[2]\n",
    "\n",
    "    print(\"Comparison of Predicted vs Ground Truth:\")\n",
    "    print(\"Metric\\t\\t\\tPredicted\\tGround Truth\\tDifference\")\n",
    "    print(\"-\" * 65)\n",
    "\n",
    "    differences = []\n",
    "    metrics = ['PHQ8_NoInterest', 'PHQ8_Depressed', 'PHQ8_Sleep', 'PHQ8_Tired', \n",
    "            'PHQ8_Appetite', 'PHQ8_Failure', 'PHQ8_Concentrating', 'PHQ8_Moving']\n",
    "    predicted_values = [phq8_scores.nointerest, phq8_scores.depressed, phq8_scores.sleep, \n",
    "                    phq8_scores.tired, phq8_scores.appetite, phq8_scores.failure,\n",
    "                    phq8_scores.concentrating, phq8_scores.moving]\n",
    "\n",
    "    for metric, pred_val in zip(metrics, predicted_values):\n",
    "        gt_val = int(ground_truth[metric])\n",
    "        diff = abs(pred_val - gt_val)\n",
    "        differences.append(diff)\n",
    "        print(f\"{metric:<23} {pred_val:<12} {gt_val:<15} {diff}\")\n",
    "\n",
    "    avg_difference = sum(differences) / len(differences)\n",
    "    print(\"-\" * 65)\n",
    "    print(f\"Average Absolute Difference: {avg_difference:.2f}\")\n",
    "\n",
    "except (json.JSONDecodeError, KeyError, ValueError) as e:\n",
    "    print(f\"Error parsing response: {e}\")\n",
    "    print(\"Raw response:\", response.json())"
   ]
  },
  {
   "cell_type": "code",
   "execution_count": null,
   "id": "3ada34e1",
   "metadata": {},
   "outputs": [
    {
     "name": "stdout",
     "output_type": "stream",
     "text": [
      "{\n",
      "  \"model\": \"gemma3-optimized:27b\",\n",
      "  \"created_at\": \"2025-07-08T17:40:17.231880462Z\",\n",
      "  \"message\": {\n",
      "    \"role\": \"assistant\",\n",
      "    \"content\": \"The capital of France is **Paris**. \\n\\nIt's also the country's most populous city!\\n\\n\\n\\n\"\n",
      "  },\n",
      "  \"done_reason\": \"stop\",\n",
      "  \"done\": true,\n",
      "  \"total_duration\": 34293797307,\n",
      "  \"load_duration\": 31815583539,\n",
      "  \"prompt_eval_count\": 16,\n",
      "  \"prompt_eval_duration\": 578633882,\n",
      "  \"eval_count\": 24,\n",
      "  \"eval_duration\": 1898829459\n",
      "}\n"
     ]
    }
   ],
   "source": [
    "\"\"\"Available models:\n",
    "- gemma3-optimized:27b\n",
    "- gemma3_optimized:8bit\n",
    "- gemma3:27b-it-qat\n",
    "- gemma3:27b\n",
    "- phi4-optimized:latest\n",
    "- phi4:latest\n",
    "- phi4-reasoning:plus\n",
    "- qwen3_optimized:latest\n",
    "- qwen3:32b\n",
    "- llama3.3:latest\n",
    "- llama4:scout\n",
    "- mistral3.1-optimized:latest\n",
    "- mistral-small3.1:latest\n",
    "- qwq:latest\n",
    "\n",
    "Notes:\n",
    "1. The models marked as \"optimized\" are configured to use multiple GPUs for faster inference.\n",
    "2. The llama4:maverick model is not available due to its size.\n",
    "\"\"\"\n",
    "\n",
    "OLLAMA_NODE = \"arctrdgn001\" # TODO: Change this variable to the node where Ollama is running\n",
    "BASE_URL = f\"http://{OLLAMA_NODE}:11434/api/chat\"\n",
    "\n",
    "model = \"gemma3-optimized:27b\" # TODO: Change this variable to the model you want to use\n",
    "message = \"What is the capital of France?\" # TODO: Change this variable to the message you want to ask the model\n",
    "\n",
    "response = requests.post(\n",
    "  BASE_URL,\n",
    "  json = {\n",
    "    \"model\": model,\n",
    "    \"messages\": [{\"role\": \"user\", \"content\": message}],\n",
    "    \"stream\": False\n",
    "  }\n",
    ")\n",
    "\n",
    "print(json.dumps(response.json(), indent=2))"
   ]
  }
 ],
 "metadata": {
  "kernelspec": {
   "display_name": "Python 3 (ipykernel)",
   "language": "python",
   "name": "python3"
  },
  "language_info": {
   "codemirror_mode": {
    "name": "ipython",
    "version": 3
   },
   "file_extension": ".py",
   "mimetype": "text/x-python",
   "name": "python",
   "nbconvert_exporter": "python",
   "pygments_lexer": "ipython3",
   "version": "3.10.11"
  }
 },
 "nbformat": 4,
 "nbformat_minor": 5
}
