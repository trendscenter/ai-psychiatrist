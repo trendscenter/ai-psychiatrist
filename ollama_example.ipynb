{
 "cells": [
  {
   "cell_type": "code",
   "execution_count": 1,
   "id": "e3cd2fef",
   "metadata": {},
   "outputs": [
    {
     "name": "stdout",
     "output_type": "stream",
     "text": [
      "Requirement already satisfied: requests in /data/users2/nblair7/envs/pt2/lib/python3.10/site-packages (2.29.0)\n",
      "Requirement already satisfied: idna<4,>=2.5 in /data/users2/nblair7/envs/pt2/lib/python3.10/site-packages (from requests) (3.4)\n",
      "Requirement already satisfied: certifi>=2017.4.17 in /data/users2/nblair7/envs/pt2/lib/python3.10/site-packages (from requests) (2023.5.7)\n",
      "Requirement already satisfied: urllib3<1.27,>=1.21.1 in /data/users2/nblair7/envs/pt2/lib/python3.10/site-packages (from requests) (1.26.16)\n",
      "Requirement already satisfied: charset-normalizer<4,>=2 in /data/users2/nblair7/envs/pt2/lib/python3.10/site-packages (from requests) (2.0.4)\n"
     ]
    }
   ],
   "source": [
    "import json\n",
    "import requests\n",
    "!pip install requests"
   ]
  },
  {
   "cell_type": "code",
   "execution_count": 3,
   "id": "3ada34e1",
   "metadata": {},
   "outputs": [
    {
     "name": "stdout",
     "output_type": "stream",
     "text": [
      "{\n",
      "  \"model\": \"gemma3-optimized:27b\",\n",
      "  \"created_at\": \"2025-07-17T22:31:49.939062393Z\",\n",
      "  \"message\": {\n",
      "    \"role\": \"assistant\",\n",
      "    \"content\": \"The capital of France is **Paris**. \\n\\nIt's also its largest city and a global center for art, fashion, gastronomy, and culture.\\n\\n\\n\\n\"\n",
      "  },\n",
      "  \"done_reason\": \"stop\",\n",
      "  \"done\": true,\n",
      "  \"total_duration\": 70842709192,\n",
      "  \"load_duration\": 65771768797,\n",
      "  \"prompt_eval_count\": 16,\n",
      "  \"prompt_eval_duration\": 792445867,\n",
      "  \"eval_count\": 33,\n",
      "  \"eval_duration\": 4277856749\n",
      "}\n"
     ]
    }
   ],
   "source": [
    "\"\"\"Available models:\n",
    "- gemma3-optimized:27b\n",
    "- gemma3_optimized:8bit\n",
    "- gemma3:27b-it-qat\n",
    "- gemma3:27b\n",
    "- phi4-optimized:latest\n",
    "- phi4:latest\n",
    "- phi4-reasoning:plus\n",
    "- qwen3_optimized:latest\n",
    "- qwen3:32b\n",
    "- llama3.3:latest\n",
    "- llama4:scout\n",
    "- mistral3.1-optimized:latest\n",
    "- mistral-small3.1:latest\n",
    "- qwq:latest\n",
    "\n",
    "Notes:\n",
    "1. The models marked as \"optimized\" are configured to use multiple GPUs for faster inference.\n",
    "2. The llama4:maverick model is not available due to its size.\n",
    "\"\"\"\n",
    "\n",
    "OLLAMA_NODE = \"arctrddgxa003\" # TODO: Change this variable to the node where Ollama is running\n",
    "BASE_URL = f\"http://{OLLAMA_NODE}:11434/api/chat\"\n",
    "\n",
    "model = \"gemma3-optimized:27b\" # TODO: Change this variable to the model you want to use\n",
    "message = \"What is the capital of France?\" # TODO: Change this variable to the message you want to ask the model\n",
    "\n",
    "response = requests.post(\n",
    "  BASE_URL,\n",
    "  json = {\n",
    "    \"model\": model,\n",
    "    \"messages\": [{\"role\": \"user\", \"content\": message}],\n",
    "    \"stream\": False\n",
    "  }\n",
    ")\n",
    "\n",
    "print(json.dumps(response.json(), indent=2))"
   ]
  }
 ],
 "metadata": {
  "kernelspec": {
   "display_name": "pt2",
   "language": "python",
   "name": "python3"
  },
  "language_info": {
   "codemirror_mode": {
    "name": "ipython",
    "version": 3
   },
   "file_extension": ".py",
   "mimetype": "text/x-python",
   "name": "python",
   "nbconvert_exporter": "python",
   "pygments_lexer": "ipython3",
   "version": "3.10.11"
  }
 },
 "nbformat": 4,
 "nbformat_minor": 5
}
